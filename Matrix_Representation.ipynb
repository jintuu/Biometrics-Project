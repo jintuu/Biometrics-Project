{
 "cells": [
  {
   "cell_type": "code",
   "execution_count": 2,
   "metadata": {},
   "outputs": [],
   "source": [
    "import cv2 as cv\n",
    "image = cv.imread(\"103_3-p1f1b1dt1j8111l9p1u7e13sg1o90.png\", 0)\n",
    "cv.imshow(\"im\", image)\n",
    "cv.waitKey(0)\n",
    "cv.destroyAllWindows()"
   ]
  },
  {
   "cell_type": "code",
   "execution_count": 9,
   "metadata": {},
   "outputs": [],
   "source": [
    "MAX_FEATURES = 500\n",
    "orb = cv.ORB_create(MAX_FEATURES)\n",
    "keypoints1, descriptors1 = orb.detectAndCompute(image, None)\n",
    "\n"
   ]
  },
  {
   "cell_type": "code",
   "execution_count": 10,
   "metadata": {},
   "outputs": [
    {
     "data": {
      "text/plain": [
       "array([[ 12, 148, 118, ..., 143,  67, 149],\n",
       "       [148, 246,  94, ..., 128, 163, 211],\n",
       "       [166, 107, 160, ..., 125,  52, 216],\n",
       "       ...,\n",
       "       [  2, 168, 198, ...,  72, 225, 136],\n",
       "       [ 62, 133, 114, ..., 175, 242,   5],\n",
       "       [ 86, 109, 246, ..., 251, 113, 128]], dtype=uint8)"
      ]
     },
     "execution_count": 10,
     "metadata": {},
     "output_type": "execute_result"
    }
   ],
   "source": [
    "descriptors1"
   ]
  },
  {
   "cell_type": "code",
   "execution_count": null,
   "metadata": {},
   "outputs": [],
   "source": []
  }
 ],
 "metadata": {
  "kernelspec": {
   "display_name": "Python 3",
   "language": "python",
   "name": "python3"
  },
  "language_info": {
   "codemirror_mode": {
    "name": "ipython",
    "version": 3
   },
   "file_extension": ".py",
   "mimetype": "text/x-python",
   "name": "python",
   "nbconvert_exporter": "python",
   "pygments_lexer": "ipython3",
   "version": "3.8.3"
  }
 },
 "nbformat": 4,
 "nbformat_minor": 4
}
